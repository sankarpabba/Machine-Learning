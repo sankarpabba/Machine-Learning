{
  "nbformat": 4,
  "nbformat_minor": 0,
  "metadata": {
    "kernelspec": {
      "name": "python3",
      "display_name": "Python 3"
    },
    "language_info": {
      "codemirror_mode": {
        "name": "ipython",
        "version": 3
      },
      "file_extension": ".py",
      "mimetype": "text/x-python",
      "name": "python",
      "nbconvert_exporter": "python",
      "pygments_lexer": "ipython3",
      "version": "3.6.1"
    },
    "colab": {
      "name": "1.7.if-elif-else-checkpoint.ipynb",
      "provenance": [],
      "include_colab_link": true
    }
  },
  "cells": [
    {
      "cell_type": "markdown",
      "metadata": {
        "id": "view-in-github",
        "colab_type": "text"
      },
      "source": [
        "<a href=\"https://colab.research.google.com/github/sankarpabba/Machine-Learning/blob/master/python%20Basics/1.7.if-elif-else-checkpoint.ipynb\" target=\"_parent\"><img src=\"https://colab.research.google.com/assets/colab-badge.svg\" alt=\"Open In Colab\"/></a>"
      ]
    },
    {
      "cell_type": "markdown",
      "metadata": {
        "collapsed": true,
        "id": "ecOsMObUDHFL",
        "colab_type": "text"
      },
      "source": [
        "# Python if ... else Statement"
      ]
    },
    {
      "cell_type": "markdown",
      "metadata": {
        "id": "Cx_zsXbaDHFP",
        "colab_type": "text"
      },
      "source": [
        "The **if…elif…else** statement is used in Python for decision making."
      ]
    },
    {
      "cell_type": "markdown",
      "metadata": {
        "id": "CFQCfh-4DHFQ",
        "colab_type": "text"
      },
      "source": [
        "# if statement syntax"
      ]
    },
    {
      "cell_type": "markdown",
      "metadata": {
        "id": "K26IXL76DHFR",
        "colab_type": "text"
      },
      "source": [
        "    if test expression:\n",
        "\n",
        "        statement(s)"
      ]
    },
    {
      "cell_type": "markdown",
      "metadata": {
        "id": "BAE3zzb3DHFT",
        "colab_type": "text"
      },
      "source": [
        "The program evaluates the test expression and will execute statement(s) only if the text expression is True.\n",
        "\n",
        "If the text expression is False, the statement(s) is not executed."
      ]
    },
    {
      "cell_type": "markdown",
      "metadata": {
        "id": "pFnSepw6DHFU",
        "colab_type": "text"
      },
      "source": [
        "Python interprets non-zero values as True. None and 0 are interpreted as False."
      ]
    },
    {
      "cell_type": "markdown",
      "metadata": {
        "id": "91ncgeuEDHFV",
        "colab_type": "text"
      },
      "source": [
        "# Flow Chart"
      ]
    },
    {
      "cell_type": "markdown",
      "metadata": {
        "id": "u9KjTL4ADzVh",
        "colab_type": "text"
      },
      "source": [
        "![alt text](https://drive.google.com/uc?id=1x0cvD7fnoy0DPQEI5ZkdPuf_vXo_qoct)"
      ]
    },
    {
      "cell_type": "markdown",
      "metadata": {
        "id": "P-Cl3HALDHFY",
        "colab_type": "text"
      },
      "source": [
        "# Example"
      ]
    },
    {
      "cell_type": "code",
      "metadata": {
        "id": "DD0hlEd3DHFa",
        "colab_type": "code",
        "colab": {}
      },
      "source": [
        "num = 10\n",
        "\n",
        "# try 0, -1 and None\n",
        "if num > 10:\n",
        "    print(\"Number is positive\")\n",
        "print(\"This will print always\")      #This print statement always print\n",
        "\n",
        "#change number \n"
      ],
      "execution_count": 0,
      "outputs": []
    },
    {
      "cell_type": "markdown",
      "metadata": {
        "id": "530xIOj4DHFm",
        "colab_type": "text"
      },
      "source": [
        "# if ... else Statement"
      ]
    },
    {
      "cell_type": "markdown",
      "metadata": {
        "id": "tOVnBH3WDHFp",
        "colab_type": "text"
      },
      "source": [
        "# Syntax:"
      ]
    },
    {
      "cell_type": "markdown",
      "metadata": {
        "id": "xVkNPz6NDHFq",
        "colab_type": "text"
      },
      "source": [
        "    if test expression:\n",
        "    \n",
        "        Body of if\n",
        "\n",
        "    else: \n",
        "    \n",
        "        Body of else"
      ]
    },
    {
      "cell_type": "markdown",
      "metadata": {
        "id": "SV4a4welDHFs",
        "colab_type": "text"
      },
      "source": [
        "# Flow Chart"
      ]
    },
    {
      "cell_type": "markdown",
      "metadata": {
        "id": "Mgu-IwFVDHFt",
        "colab_type": "text"
      },
      "source": [
        "![alt text](https://drive.google.com/uc?id=18APW6gNT2sWdDN6c3JpdBchVHBm1AtbG)"
      ]
    },
    {
      "cell_type": "markdown",
      "metadata": {
        "id": "aYE9STXcDHFu",
        "colab_type": "text"
      },
      "source": [
        "# Example"
      ]
    },
    {
      "cell_type": "code",
      "metadata": {
        "id": "5HQiUgpmDHFv",
        "colab_type": "code",
        "colab": {}
      },
      "source": [
        "num = 10\n",
        "if num > 0:\n",
        "    print(\"Positive number\")\n",
        "else:\n",
        "    print(\"Negative Number\")"
      ],
      "execution_count": 0,
      "outputs": []
    },
    {
      "cell_type": "markdown",
      "metadata": {
        "id": "K4zDR8vADHF1",
        "colab_type": "text"
      },
      "source": [
        "# if...elif...else Statement"
      ]
    },
    {
      "cell_type": "markdown",
      "metadata": {
        "id": "0KFKIfqxDHF2",
        "colab_type": "text"
      },
      "source": [
        "# Syntax:"
      ]
    },
    {
      "cell_type": "markdown",
      "metadata": {
        "id": "zyelygP9DHF3",
        "colab_type": "text"
      },
      "source": [
        "    if test expression:\n",
        "\n",
        "        Body of if\n",
        "    elif test expression:\n",
        "    \n",
        "        Body of elif\n",
        "    else: \n",
        "    \n",
        "        Body of else"
      ]
    },
    {
      "cell_type": "markdown",
      "metadata": {
        "id": "jasGKrxvDHF4",
        "colab_type": "text"
      },
      "source": [
        "# Flow Chart"
      ]
    },
    {
      "cell_type": "markdown",
      "metadata": {
        "id": "3V0BcDlJDHF6",
        "colab_type": "text"
      },
      "source": [
        "![alt text](https://drive.google.com/uc?id=1mjR582W2xAeqEmLa5bRDfBkPB0efnZ6j)"
      ]
    },
    {
      "cell_type": "markdown",
      "metadata": {
        "id": "HdHc8L0zDHF7",
        "colab_type": "text"
      },
      "source": [
        "# Example:"
      ]
    },
    {
      "cell_type": "code",
      "metadata": {
        "id": "Mrmplbx-DHF8",
        "colab_type": "code",
        "colab": {}
      },
      "source": [
        "num = 10.5\n",
        "\n",
        "if num > 0:\n",
        "    print(\"Positive number\")\n",
        "elif num == 0:\n",
        "    print(\"ZERO\")\n",
        "else:\n",
        "    print(\"Negative Number\")"
      ],
      "execution_count": 0,
      "outputs": []
    },
    {
      "cell_type": "markdown",
      "metadata": {
        "id": "BoRKgfNPDHGA",
        "colab_type": "text"
      },
      "source": [
        "# Nested if Statements"
      ]
    },
    {
      "cell_type": "markdown",
      "metadata": {
        "id": "cxo_MbBXDHGB",
        "colab_type": "text"
      },
      "source": [
        "We can have a if...elif...else statement inside another if...elif...else statement. This is called nesting in computer programming."
      ]
    },
    {
      "cell_type": "markdown",
      "metadata": {
        "id": "LmSbxCuMDHGE",
        "colab_type": "text"
      },
      "source": [
        "# Example:"
      ]
    },
    {
      "cell_type": "code",
      "metadata": {
        "id": "TX3mWqgjDHGG",
        "colab_type": "code",
        "colab": {}
      },
      "source": [
        "num = 10.5\n",
        "\n",
        "if num >= 0:\n",
        "    if num == 0:\n",
        "        print(\"Zero\")\n",
        "    else:\n",
        "        print(\"Positive number\")\n",
        "else:\n",
        "    print(\"Negative Number\")"
      ],
      "execution_count": 0,
      "outputs": []
    },
    {
      "cell_type": "markdown",
      "metadata": {
        "id": "XU0w37ckDHGL",
        "colab_type": "text"
      },
      "source": [
        "# Python program to find the largest element among three Numbers"
      ]
    },
    {
      "cell_type": "code",
      "metadata": {
        "id": "4siK-DtGDHGN",
        "colab_type": "code",
        "colab": {}
      },
      "source": [
        "num1 = 10\n",
        "num2 = 50\n",
        "num3 = 15\n",
        "\n",
        "if (num1 >= num2) and (num1 >= num3):           #logical operator   and\n",
        "    largest = num1\n",
        "elif (num2 >= num1) and (num2 >= num3):\n",
        "    largest = num2\n",
        "else:\n",
        "    largest = num3\n",
        "print(\"Largest element among three numbers is: {}\".format(largest))"
      ],
      "execution_count": 0,
      "outputs": []
    }
  ]
}