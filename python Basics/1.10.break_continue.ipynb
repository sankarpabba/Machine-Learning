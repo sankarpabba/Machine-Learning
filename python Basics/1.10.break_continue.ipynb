{
  "nbformat": 4,
  "nbformat_minor": 0,
  "metadata": {
    "colab": {
      "name": "break_continue.ipynb",
      "provenance": [],
      "include_colab_link": true
    },
    "kernelspec": {
      "display_name": "Python 3",
      "language": "python",
      "name": "python3"
    }
  },
  "cells": [
    {
      "cell_type": "markdown",
      "metadata": {
        "id": "view-in-github",
        "colab_type": "text"
      },
      "source": [
        "<a href=\"https://colab.research.google.com/github/sankarpabba/Machine-Learning/blob/master/python%20Basics/1.10.break_continue.ipynb\" target=\"_parent\"><img src=\"https://colab.research.google.com/assets/colab-badge.svg\" alt=\"Open In Colab\"/></a>"
      ]
    },
    {
      "cell_type": "markdown",
      "metadata": {
        "id": "sywvYJn4bHvQ",
        "colab_type": "text"
      },
      "source": [
        "# Python break and continue Statements"
      ]
    },
    {
      "cell_type": "markdown",
      "metadata": {
        "id": "Nvwj3K2QbHvU",
        "colab_type": "text"
      },
      "source": [
        "In Python, break and continue statements can alter the flow of a normal loop.\n",
        "\n",
        "Loops iterate over a block of code until test expression is false, but sometimes we wish to terminate the current iteration or even the whole loop without cheking test expression.\n",
        "\n",
        "The break and continue statements are used in these cases."
      ]
    },
    {
      "cell_type": "markdown",
      "metadata": {
        "id": "i3QBjhRtbHvV",
        "colab_type": "text"
      },
      "source": [
        "# Python break Statement"
      ]
    },
    {
      "cell_type": "markdown",
      "metadata": {
        "id": "h6fXbdvObHvY",
        "colab_type": "text"
      },
      "source": [
        "Syntax:\n",
        "    \n",
        "    break"
      ]
    },
    {
      "cell_type": "markdown",
      "metadata": {
        "id": "QcV9OkMjbHva",
        "colab_type": "text"
      },
      "source": [
        "![alt text](https://drive.google.com/uc?id=1sVTpuyAzVnA-sMwapCXTvspsll5YGyCc)"
      ]
    },
    {
      "cell_type": "markdown",
      "metadata": {
        "id": "021E6hkgbHvc",
        "colab_type": "text"
      },
      "source": [
        "![alt text](https://drive.google.com/uc?id=1Cd4l9pJDB0g1CfHMR4Q0v5xGANZYlvdM)"
      ]
    },
    {
      "cell_type": "markdown",
      "metadata": {
        "id": "C54FsONgbHve",
        "colab_type": "text"
      },
      "source": [
        "# Example"
      ]
    },
    {
      "cell_type": "code",
      "metadata": {
        "id": "mpNVa_wObHvg",
        "colab_type": "code",
        "colab": {}
      },
      "source": [
        "numbers = [1, 2, 3, 4]\n",
        "for num in numbers:          #iterating over list\n",
        "    if num == 4:\n",
        "        break\n",
        "    print(num)\n",
        "else:\n",
        "    print(\"in the else-block\")\n",
        "print(\"Outside of for loop\")"
      ],
      "execution_count": 0,
      "outputs": []
    },
    {
      "cell_type": "markdown",
      "metadata": {
        "id": "RinedMWEbHvo",
        "colab_type": "text"
      },
      "source": [
        "# Python Program to check given number is Prime number or not (using break)\n"
      ]
    },
    {
      "cell_type": "code",
      "metadata": {
        "id": "YMyA2u4JbHvp",
        "colab_type": "code",
        "colab": {}
      },
      "source": [
        "num = int(input(\"Enter a number: \"))        #convert string to int\n",
        "\n",
        "\n",
        "isDivisible = False;\n",
        "\n",
        "i=2;\n",
        "while i < num:\n",
        "    if num % i == 0:\n",
        "        isDivisible = True;\n",
        "        print (\"{} is divisible by {}\".format(num,i) )\n",
        "        break; # this line is the only addition.\n",
        "    i += 1;\n",
        "    \n",
        "if isDivisible:\n",
        "    print(\"{} is NOT a Prime number\".format(num))\n",
        "else:\n",
        "    print(\"{} is a Prime number\".format(num))"
      ],
      "execution_count": 0,
      "outputs": []
    },
    {
      "cell_type": "markdown",
      "metadata": {
        "id": "QO76VTitbHvt",
        "colab_type": "text"
      },
      "source": [
        "# Python Continue Statement"
      ]
    },
    {
      "cell_type": "markdown",
      "metadata": {
        "id": "YiAeAbeDbHvt",
        "colab_type": "text"
      },
      "source": [
        "syntax:\n",
        "    \n",
        "    continue"
      ]
    },
    {
      "cell_type": "markdown",
      "metadata": {
        "id": "fOQWieXrbHvv",
        "colab_type": "text"
      },
      "source": [
        "# Flow Chart"
      ]
    },
    {
      "cell_type": "markdown",
      "metadata": {
        "id": "4efWz_0wbHvw",
        "colab_type": "text"
      },
      "source": [
        "![alt text](https://drive.google.com/uc?id=1IRaXBzv_sFslXSwA7R8KZ3DVNjrK4eMu)"
      ]
    },
    {
      "cell_type": "markdown",
      "metadata": {
        "id": "h3UBPJSMbHvw",
        "colab_type": "text"
      },
      "source": [
        "![alt text](https://drive.google.com/uc?id=1LO9F-RJi_c8QokbDxvp0GQkz1-by7vk9)"
      ]
    },
    {
      "cell_type": "markdown",
      "metadata": {
        "id": "Bdk9BNsebHvy",
        "colab_type": "text"
      },
      "source": [
        "# Example"
      ]
    },
    {
      "cell_type": "code",
      "metadata": {
        "id": "wuPT1JLvbHvz",
        "colab_type": "code",
        "colab": {}
      },
      "source": [
        "#print odd numbers present in a list\n",
        "numbers = [1, 2, 3, 4, 5]\n",
        "\n",
        "for num in numbers:\n",
        "    if num % 2 == 0:\n",
        "        continue\n",
        "    print(num)\n",
        "else:\n",
        "    print(\"else-block\")"
      ],
      "execution_count": 0,
      "outputs": []
    }
  ]
}