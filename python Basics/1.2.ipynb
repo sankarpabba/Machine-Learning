{
  "nbformat": 4,
  "nbformat_minor": 0,
  "metadata": {
    "kernelspec": {
      "name": "python3",
      "display_name": "Python 3"
    },
    "colab": {
      "name": "1.2.ipynb",
      "provenance": [],
      "include_colab_link": true
    }
  },
  "cells": [
    {
      "cell_type": "markdown",
      "metadata": {
        "id": "view-in-github",
        "colab_type": "text"
      },
      "source": [
        "<a href=\"https://colab.research.google.com/github/sankarpabba/Machine-Learning/blob/master/1.2.ipynb\" target=\"_parent\"><img src=\"https://colab.research.google.com/assets/colab-badge.svg\" alt=\"Open In Colab\"/></a>"
      ]
    },
    {
      "cell_type": "markdown",
      "metadata": {
        "id": "XP2V7Ds3x9lJ",
        "colab_type": "text"
      },
      "source": [
        "# Python Keywords"
      ]
    },
    {
      "cell_type": "markdown",
      "metadata": {
        "id": "WWafYKulx9lO",
        "colab_type": "text"
      },
      "source": [
        "Keywords are the reserved words in python\n",
        "\n",
        "We can't use a keyword as variable name, function name or any other identifier\n",
        "\n",
        "Keywords are case sentive"
      ]
    },
    {
      "cell_type": "code",
      "metadata": {
        "id": "bmp-yw_cx9lP",
        "colab_type": "code",
        "colab": {}
      },
      "source": [
        "#Get all keywords in python 3.6\n",
        "\n",
        "import keyword\n",
        "\n",
        "print(keyword.kwlist)\n",
        "\n",
        "print(\"Total number of keywords \", len(keyword.kwlist))"
      ],
      "execution_count": 0,
      "outputs": []
    },
    {
      "cell_type": "markdown",
      "metadata": {
        "collapsed": true,
        "id": "4wpq4Uomx9lW",
        "colab_type": "text"
      },
      "source": [
        "# Identifiers"
      ]
    },
    {
      "cell_type": "markdown",
      "metadata": {
        "id": "VtGncKb3x9lY",
        "colab_type": "text"
      },
      "source": [
        "Identifier is the name given to entities like class, functions, variables etc. in Python. It helps differentiating one entity from another."
      ]
    },
    {
      "cell_type": "markdown",
      "metadata": {
        "id": "YHO424Knx9lZ",
        "colab_type": "text"
      },
      "source": [
        "Rules for Writing Identifiers:\n",
        "\n",
        "1. Identifiers can be a combination of letters in lowercase (a to z) or uppercase (A to Z) or digits (0 to 9) or an underscore (_).\n",
        "\n",
        "2. An identifier cannot start with a digit. 1variable is invalid, but variable1 is perfectly fine.\n",
        "\n",
        "3. Keywords cannot be used as identifiers."
      ]
    },
    {
      "cell_type": "code",
      "metadata": {
        "id": "tZQPhTryx9la",
        "colab_type": "code",
        "colab": {}
      },
      "source": [
        "global = 1"
      ],
      "execution_count": 0,
      "outputs": []
    },
    {
      "cell_type": "markdown",
      "metadata": {
        "id": "v-YqWZVHx9le",
        "colab_type": "text"
      },
      "source": [
        " We cannot use special symbols like !, @, #, $, % etc. in our identifier."
      ]
    },
    {
      "cell_type": "code",
      "metadata": {
        "id": "FTqhcbK5x9lg",
        "colab_type": "code",
        "colab": {}
      },
      "source": [
        "a@ = 10             #can't use special symbols as an identifier"
      ],
      "execution_count": 0,
      "outputs": []
    }
  ]
}