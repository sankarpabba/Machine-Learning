{
  "nbformat": 4,
  "nbformat_minor": 0,
  "metadata": {
    "kernelspec": {
      "name": "python3",
      "display_name": "Python 3"
    },
    "colab": {
      "name": "1.4.ipynb",
      "provenance": [],
      "include_colab_link": true
    }
  },
  "cells": [
    {
      "cell_type": "markdown",
      "metadata": {
        "id": "view-in-github",
        "colab_type": "text"
      },
      "source": [
        "<a href=\"https://colab.research.google.com/github/sankarpabba/Machine-Learning/blob/master/1.4.ipynb\" target=\"_parent\"><img src=\"https://colab.research.google.com/assets/colab-badge.svg\" alt=\"Open In Colab\"/></a>"
      ]
    },
    {
      "cell_type": "markdown",
      "metadata": {
        "id": "hKd6pbVWjAhO",
        "colab_type": "text"
      },
      "source": [
        "# Variables"
      ]
    },
    {
      "cell_type": "markdown",
      "metadata": {
        "id": "Xci3KHBejAhQ",
        "colab_type": "text"
      },
      "source": [
        "A variable is a location in memory used to store some data (value).\n",
        "\n",
        "They are given unique names to differentiate between different memory locations. The rules for writing a variable name is same as the rules for writing identifiers in Python.\n",
        "\n",
        "We don't need to declare a variable before using it. In Python, we simply assign a value to a variable and it will exist. We don't even have to declare the type of the variable. This is handled internally according to the type of value we assign to the variable."
      ]
    },
    {
      "cell_type": "markdown",
      "metadata": {
        "id": "X0eXBbyQjAhS",
        "colab_type": "text"
      },
      "source": [
        "# Variable Assignments"
      ]
    },
    {
      "cell_type": "code",
      "metadata": {
        "id": "EmLqQ8LdjAhT",
        "colab_type": "code",
        "colab": {}
      },
      "source": [
        "#We use the assignment operator (=) to assign values to a variable\n",
        "\n",
        "a = 10\n",
        "b = 5.5\n",
        "c = \"ML\""
      ],
      "execution_count": 0,
      "outputs": []
    },
    {
      "cell_type": "markdown",
      "metadata": {
        "id": "OmSXAyFWjAhZ",
        "colab_type": "text"
      },
      "source": [
        "# Multiple Assignments"
      ]
    },
    {
      "cell_type": "code",
      "metadata": {
        "id": "TSdYQvngjAha",
        "colab_type": "code",
        "colab": {}
      },
      "source": [
        "a, b, c = 10, 5.5, \"ML\""
      ],
      "execution_count": 0,
      "outputs": []
    },
    {
      "cell_type": "code",
      "metadata": {
        "id": "k4uwhrsojAhe",
        "colab_type": "code",
        "colab": {}
      },
      "source": [
        "a = b = c = \"AI\" #assign the same value to multiple variables at once"
      ],
      "execution_count": 0,
      "outputs": []
    },
    {
      "cell_type": "markdown",
      "metadata": {
        "id": "LoRDnRcAjAhh",
        "colab_type": "text"
      },
      "source": [
        "# Storage Locations"
      ]
    },
    {
      "cell_type": "code",
      "metadata": {
        "id": "N18ORoyqjAhi",
        "colab_type": "code",
        "colab": {}
      },
      "source": [
        "x = 3\n",
        "\n",
        "print(id(x))               #print address of variable x"
      ],
      "execution_count": 0,
      "outputs": []
    },
    {
      "cell_type": "code",
      "metadata": {
        "id": "DzXApOnYjAhq",
        "colab_type": "code",
        "colab": {}
      },
      "source": [
        "y = 3\n",
        "\n",
        "print(id(y))               #print address of variable y"
      ],
      "execution_count": 0,
      "outputs": []
    },
    {
      "cell_type": "markdown",
      "metadata": {
        "id": "OJ2zfFRCjAhu",
        "colab_type": "text"
      },
      "source": [
        "Observation:\n",
        "\n",
        "x and y points to same memory location\n",
        "    "
      ]
    },
    {
      "cell_type": "code",
      "metadata": {
        "id": "TmRjWWdkjAhv",
        "colab_type": "code",
        "colab": {}
      },
      "source": [
        "y = 2\n",
        "print(id(y))               #print address of variable y"
      ],
      "execution_count": 0,
      "outputs": []
    },
    {
      "cell_type": "markdown",
      "metadata": {
        "id": "8HgZqTvSjAh0",
        "colab_type": "text"
      },
      "source": [
        "# Data Types "
      ]
    },
    {
      "cell_type": "markdown",
      "metadata": {
        "id": "ts-W3G1DjAh3",
        "colab_type": "text"
      },
      "source": [
        "Every value in Python has a datatype. Since everything is an object in Python programming, data types are actually classes and variables are instance (object) of these classes."
      ]
    },
    {
      "cell_type": "markdown",
      "metadata": {
        "id": "lUrSkm7UjAh4",
        "colab_type": "text"
      },
      "source": [
        "# Numbers"
      ]
    },
    {
      "cell_type": "markdown",
      "metadata": {
        "id": "H4_fLR0BjAiP",
        "colab_type": "text"
      },
      "source": [
        "Integers, floating point numbers and complex numbers falls under Python numbers category. They are defined as int, float and complex class in Python.\n",
        "\n",
        "We can use the type() function to know which class a variable or a value belongs to and the isinstance() function to check if an object belongs to a particular class."
      ]
    },
    {
      "cell_type": "code",
      "metadata": {
        "id": "WwLgel3TjAiR",
        "colab_type": "code",
        "colab": {}
      },
      "source": [
        "a = 5                               #data type is implicitly set to integer\n",
        "print(a, \" is of type\", type(a))"
      ],
      "execution_count": 0,
      "outputs": []
    },
    {
      "cell_type": "code",
      "metadata": {
        "id": "VFmFyuKljAiY",
        "colab_type": "code",
        "colab": {}
      },
      "source": [
        "a = 2.5                            #data type is changed to float\n",
        "print(a, \" is of type\", type(a))"
      ],
      "execution_count": 0,
      "outputs": []
    },
    {
      "cell_type": "code",
      "metadata": {
        "id": "ylZA0ZPzjAig",
        "colab_type": "code",
        "colab": {}
      },
      "source": [
        "a = 1 + 2j                         #data type is changed to complex number\n",
        "print(a, \" is complex number?\") \n",
        "print(isinstance(a, complex))"
      ],
      "execution_count": 0,
      "outputs": []
    },
    {
      "cell_type": "markdown",
      "metadata": {
        "id": "OzdVm2D-jAim",
        "colab_type": "text"
      },
      "source": [
        "# Boolean"
      ]
    },
    {
      "cell_type": "markdown",
      "metadata": {
        "id": "JDaSahNgjAio",
        "colab_type": "text"
      },
      "source": [
        " Boolean represents the truth values False and True"
      ]
    },
    {
      "cell_type": "code",
      "metadata": {
        "id": "QcWk4rwnjAip",
        "colab_type": "code",
        "colab": {}
      },
      "source": [
        "a = True                          #a is a boolean type\n",
        "print(type(a))"
      ],
      "execution_count": 0,
      "outputs": []
    },
    {
      "cell_type": "markdown",
      "metadata": {
        "id": "FlyZKNjVjAiz",
        "colab_type": "text"
      },
      "source": [
        "# Python Strings"
      ]
    },
    {
      "cell_type": "markdown",
      "metadata": {
        "id": "by_In521jAjD",
        "colab_type": "text"
      },
      "source": [
        "String is sequence of Unicode characters. \n",
        "\n",
        "We can use single quotes or double quotes to represent strings. \n",
        "\n",
        "Multi-line strings can be denoted using triple quotes, ''' or \"\"\"."
      ]
    },
    {
      "cell_type": "markdown",
      "metadata": {
        "id": "A8ER_dyljAjE",
        "colab_type": "text"
      },
      "source": [
        "A string in Python consists of a series or sequence of characters - letters, numbers, and special characters. \n",
        "\n",
        "Strings can be indexed - often synonymously called subscripted as well. \n",
        "\n",
        "Similar to C, the first character of a string has the index 0."
      ]
    },
    {
      "cell_type": "code",
      "metadata": {
        "id": "1gMkenFmjAjF",
        "colab_type": "code",
        "colab": {}
      },
      "source": [
        "s = \"This is Online AI course\"\n",
        "print(s)"
      ],
      "execution_count": 0,
      "outputs": []
    },
    {
      "cell_type": "code",
      "metadata": {
        "id": "Pcf-sZ_UjAjM",
        "colab_type": "code",
        "colab": {}
      },
      "source": [
        "print(s[0])\n",
        "#last char s[len(s)-1] or s[-1]"
      ],
      "execution_count": 0,
      "outputs": []
    },
    {
      "cell_type": "code",
      "metadata": {
        "id": "ajug377XjAjR",
        "colab_type": "code",
        "colab": {}
      },
      "source": [
        "#slicing\n",
        "s[5:]"
      ],
      "execution_count": 0,
      "outputs": []
    },
    {
      "cell_type": "markdown",
      "metadata": {
        "id": "q8EfPYofjAjX",
        "colab_type": "text"
      },
      "source": [
        "# Python List"
      ]
    },
    {
      "cell_type": "markdown",
      "metadata": {
        "id": "HmvLG9uqjAjY",
        "colab_type": "text"
      },
      "source": [
        "List is an ordered sequence of items. It is one of the most used datatype in Python and is very flexible. All the items in a list do not need to be of the same type.\n",
        "\n",
        "Declaring a list is , Items separated by commas are enclosed within brackets [ ]."
      ]
    },
    {
      "cell_type": "code",
      "metadata": {
        "id": "-5ZyYAWPjAjZ",
        "colab_type": "code",
        "colab": {}
      },
      "source": [
        "a = [10, 20.5, \"Hello\"]\n",
        "print(a[1])               #print 1st index element"
      ],
      "execution_count": 0,
      "outputs": []
    },
    {
      "cell_type": "markdown",
      "metadata": {
        "id": "RxDNwaW9jAjd",
        "colab_type": "text"
      },
      "source": [
        "Lists are mutable, meaning, value of elements of a list can be altered."
      ]
    },
    {
      "cell_type": "code",
      "metadata": {
        "id": "JqjN61NijAji",
        "colab_type": "code",
        "colab": {}
      },
      "source": [
        "a[1] = 30.7\n",
        "print(a)"
      ],
      "execution_count": 0,
      "outputs": []
    },
    {
      "cell_type": "markdown",
      "metadata": {
        "id": "1z43evhgjAjm",
        "colab_type": "text"
      },
      "source": [
        "# Python Tuple"
      ]
    },
    {
      "cell_type": "markdown",
      "metadata": {
        "id": "hl-DNjIKjAjn",
        "colab_type": "text"
      },
      "source": [
        "Tuple is an ordered sequence of items same as list.The only difference is that tuples are immutable. Tuples once created cannot be modified."
      ]
    },
    {
      "cell_type": "code",
      "metadata": {
        "id": "FtTKigm4jAjn",
        "colab_type": "code",
        "colab": {}
      },
      "source": [
        "t = (1, 1.5, \"ML\")"
      ],
      "execution_count": 0,
      "outputs": []
    },
    {
      "cell_type": "code",
      "metadata": {
        "id": "FXwePsUjjAjs",
        "colab_type": "code",
        "colab": {}
      },
      "source": [
        "print(t[1]) #extract particular element"
      ],
      "execution_count": 0,
      "outputs": []
    },
    {
      "cell_type": "code",
      "metadata": {
        "id": "HcmgwUWvjAjv",
        "colab_type": "code",
        "colab": {}
      },
      "source": [
        "t[1] = 1.25"
      ],
      "execution_count": 0,
      "outputs": []
    },
    {
      "cell_type": "markdown",
      "metadata": {
        "id": "RUTK-g6rjAjz",
        "colab_type": "text"
      },
      "source": [
        "# Python Set"
      ]
    },
    {
      "cell_type": "markdown",
      "metadata": {
        "id": "J8pDiqs1jAjz",
        "colab_type": "text"
      },
      "source": [
        "Set is an unordered collection of unique items. Set is defined by values separated by comma inside braces { }. Items in a set are not ordered."
      ]
    },
    {
      "cell_type": "code",
      "metadata": {
        "id": "Pa8_taUijAj0",
        "colab_type": "code",
        "colab": {}
      },
      "source": [
        "a = {10, 30, 20, 40, 5}\n",
        "print(a)"
      ],
      "execution_count": 0,
      "outputs": []
    },
    {
      "cell_type": "code",
      "metadata": {
        "id": "IvCOBoJsjAj4",
        "colab_type": "code",
        "colab": {}
      },
      "source": [
        "print(type(a))             #print type of a"
      ],
      "execution_count": 0,
      "outputs": []
    },
    {
      "cell_type": "markdown",
      "metadata": {
        "id": "-REyz-C-jAj8",
        "colab_type": "text"
      },
      "source": [
        "We can perform set operations like union, intersection on two sets. Set have unique values."
      ]
    },
    {
      "cell_type": "code",
      "metadata": {
        "id": "1PYDi3VRjAj8",
        "colab_type": "code",
        "colab": {}
      },
      "source": [
        "s = {10, 20, 20, 30, 30, 30}\n",
        "print(s)                    #automatically set won't consider duplicate elements"
      ],
      "execution_count": 0,
      "outputs": []
    },
    {
      "cell_type": "code",
      "metadata": {
        "id": "8gA4UANbjAkA",
        "colab_type": "code",
        "colab": {}
      },
      "source": [
        "print(s[1]) #we can't print particular element in set because \n",
        "            #it's unorder collections of items"
      ],
      "execution_count": 0,
      "outputs": []
    },
    {
      "cell_type": "markdown",
      "metadata": {
        "id": "qcVbqDR0jAkE",
        "colab_type": "text"
      },
      "source": [
        "# Python Dictionary"
      ]
    },
    {
      "cell_type": "markdown",
      "metadata": {
        "id": "W0R99yybjAkF",
        "colab_type": "text"
      },
      "source": [
        "Dictionary is an unordered collection of key-value pairs."
      ]
    },
    {
      "cell_type": "markdown",
      "metadata": {
        "id": "xojDNh_ujAkG",
        "colab_type": "text"
      },
      "source": [
        "In Python, dictionaries are defined within braces {} with each item being a pair in the form key:value. Key and value can be of any type."
      ]
    },
    {
      "cell_type": "code",
      "metadata": {
        "id": "2T9I2fD_jAkG",
        "colab_type": "code",
        "colab": {}
      },
      "source": [
        "d = {'a': \"apple\", 'b': \"bat\"}\n",
        "print(d['a'])"
      ],
      "execution_count": 0,
      "outputs": []
    },
    {
      "cell_type": "markdown",
      "metadata": {
        "id": "VAFPibx4jAkK",
        "colab_type": "text"
      },
      "source": [
        "# Conversion between Datatypes"
      ]
    },
    {
      "cell_type": "markdown",
      "metadata": {
        "id": "Gr9LdKwUjAkK",
        "colab_type": "text"
      },
      "source": [
        "We can convert between different data types by using different type conversion functions like int(), float(), str() etc."
      ]
    },
    {
      "cell_type": "code",
      "metadata": {
        "id": "C7Hm3GjUjAkL",
        "colab_type": "code",
        "colab": {}
      },
      "source": [
        "float(5)     #convert interger to float using float() method"
      ],
      "execution_count": 0,
      "outputs": []
    },
    {
      "cell_type": "code",
      "metadata": {
        "id": "qOQdGOo9jAkO",
        "colab_type": "code",
        "colab": {}
      },
      "source": [
        "int(100.5)   #convert float to integer using int() method"
      ],
      "execution_count": 0,
      "outputs": []
    },
    {
      "cell_type": "code",
      "metadata": {
        "id": "j_YHvzHjjAkR",
        "colab_type": "code",
        "colab": {}
      },
      "source": [
        "str(20)      #convert integer to string"
      ],
      "execution_count": 0,
      "outputs": []
    },
    {
      "cell_type": "markdown",
      "metadata": {
        "id": "fQlmdkWZjAkV",
        "colab_type": "text"
      },
      "source": [
        "Conversion to and from string must contain compatible values."
      ]
    },
    {
      "cell_type": "code",
      "metadata": {
        "id": "rmZTUGvNjAkW",
        "colab_type": "code",
        "colab": {}
      },
      "source": [
        "int('10p')"
      ],
      "execution_count": 0,
      "outputs": []
    },
    {
      "cell_type": "code",
      "metadata": {
        "id": "ySebSJL4jAka",
        "colab_type": "code",
        "colab": {}
      },
      "source": [
        "user = \"satish\"\n",
        "lines = 100\n",
        "\n",
        "print(\"Congratulations, \" + user + \"! You just wrote \" + str(lines) + \" lines of code\" )\n",
        "#print(\"Congratulations, \" + user + \"! You just wrote \" , lines , \" lines of code\" )\n",
        "#remove str and gives error"
      ],
      "execution_count": 0,
      "outputs": []
    },
    {
      "cell_type": "markdown",
      "metadata": {
        "id": "b70t71oHjAke",
        "colab_type": "text"
      },
      "source": [
        "We can convert one sequence to other"
      ]
    },
    {
      "cell_type": "code",
      "metadata": {
        "id": "X8JVo21VjAkf",
        "colab_type": "code",
        "colab": {}
      },
      "source": [
        "a = [1, 2, 3]\n",
        "\n",
        "print(type(a))      #type of a is list \n",
        "\n",
        "s = set(a)          #convert list to set using set() method\n",
        "\n",
        "print(type(s))      #now type of s is set\n",
        "print(type(a)) "
      ],
      "execution_count": 0,
      "outputs": []
    },
    {
      "cell_type": "code",
      "metadata": {
        "id": "_Uhx5L4AjAkm",
        "colab_type": "code",
        "colab": {}
      },
      "source": [
        "list(\"Hello\")       #convert String to list using list() method"
      ],
      "execution_count": 0,
      "outputs": []
    }
  ]
}