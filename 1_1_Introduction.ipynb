{
  "nbformat": 4,
  "nbformat_minor": 0,
  "metadata": {
    "colab": {
      "name": "1.1_Introduction.ipynb",
      "provenance": [],
      "authorship_tag": "ABX9TyM2dY3gno6IVGsBxsw9VxjP",
      "include_colab_link": true
    },
    "kernelspec": {
      "name": "python3",
      "display_name": "Python 3"
    }
  },
  "cells": [
    {
      "cell_type": "markdown",
      "metadata": {
        "id": "view-in-github",
        "colab_type": "text"
      },
      "source": [
        "<a href=\"https://colab.research.google.com/github/sankarpabba/Machine-Learning/blob/master/1_1_Introduction.ipynb\" target=\"_parent\"><img src=\"https://colab.research.google.com/assets/colab-badge.svg\" alt=\"Open In Colab\"/></a>"
      ]
    },
    {
      "cell_type": "markdown",
      "metadata": {
        "id": "DcmrToGi9UNW",
        "colab_type": "text"
      },
      "source": [
        "# Introduction to Python"
      ]
    },
    {
      "cell_type": "markdown",
      "metadata": {
        "id": "JSDyIpgd9_ur",
        "colab_type": "text"
      },
      "source": [
        "# Features of Python"
      ]
    },
    {
      "cell_type": "markdown",
      "metadata": {
        "id": "2mytVrZzEp38",
        "colab_type": "text"
      },
      "source": [
        "1.   Simple and very easy to Learn\n",
        "2.   Free Ware and Open Source\n",
        "3.   High Leve Programming Language\n",
        "4.   Platform Independent  \n",
        "5.   Portability\n",
        "6.   Dynamically Typed Programming \n",
        "7.   Both Procedure and object oriented \n",
        "8.   Interpreted programming language (No need of compilation lika java)\n",
        "9.   Extensible \n",
        "      (we have some code in other programming language)\n",
        "      (we can improve performance of the language)\n",
        "10.   Embedded\n",
        "      (We can use Python program in other programming languages).\n",
        "\n",
        "\n",
        "\n",
        "\n",
        "\n"
      ]
    },
    {
      "cell_type": "markdown",
      "metadata": {
        "id": "SCu_iPaQKixZ",
        "colab_type": "text"
      },
      "source": [
        ""
      ]
    },
    {
      "cell_type": "markdown",
      "metadata": {
        "id": "2VDGQnZMKC0Q",
        "colab_type": "text"
      },
      "source": [
        ""
      ]
    }
  ]
}